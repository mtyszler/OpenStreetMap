{
 "cells": [
  {
   "cell_type": "markdown",
   "metadata": {},
   "source": [
    "# OpenStreetMap Data Wrangling Project\n",
    "\n",
    "In this notebook I summarize my steps and findings towards the Data Wrangling Project course, using OpenStreet Map as a Case Study.\n",
    "This is in the Scope of the Udacity Nanodegree, P3: Wrangle OpenStreetMap Data\n",
    "\n",
    "** Author **: [Marcelo Tyszler](mailto:tyszler.jobs@gmail.com)\n",
    "\n",
    "** Start Date **: 04/Mar/2017\n",
    "\n",
    "** Today's Date **: 04/Mar/2017"
   ]
  },
  {
   "cell_type": "markdown",
   "metadata": {},
   "source": [
    "## Choice of tools\n",
    "\n",
    "For this project I opted for:\n",
    "\n",
    "* Keep basic documentation and notes in the Jupyter Notebook\n",
    "* Save files in Github\n",
    "* Use PyCharm as Python environment\n",
    "* Use DB Browser for SQLite as SQL environment (in combination with command line)\n",
    "\n"
   ]
  },
  {
   "cell_type": "markdown",
   "metadata": {},
   "source": [
    "## Map Area\n",
    "\n",
    "Nieuwegein, Netherlands:\n",
    "\n",
    "* Mapzen extract: https://mapzen.com/data/metro-extracts/your-extracts/2ac3c83d0cf8\n",
    "* OpenStreetMap link: https://www.openstreetmap.org/relation/419212#map=12/52.0300/5.0966\n",
    "\n",
    "I chose this area since this is where I currently live, and not a major city in the Netherlands. Therefore I believe I can collaborate better here due to my knowledge and have a marginal higher impact than to a major city like Amsterdam.\n",
    "\n",
    " *I downloaded the OSM XML option: https://s3.amazonaws.com/mapzen.odes/ex_4nypWySr8p3tPS5D3gfvy2aPey7mV.osm.bz2*\n"
   ]
  },
  {
   "cell_type": "code",
   "execution_count": null,
   "metadata": {
    "collapsed": true
   },
   "outputs": [],
   "source": []
  }
 ],
 "metadata": {
  "anaconda-cloud": {},
  "kernelspec": {
   "display_name": "Python [default]",
   "language": "python",
   "name": "python2"
  },
  "language_info": {
   "codemirror_mode": {
    "name": "ipython",
    "version": 2
   },
   "file_extension": ".py",
   "mimetype": "text/x-python",
   "name": "python",
   "nbconvert_exporter": "python",
   "pygments_lexer": "ipython2",
   "version": "2.7.12"
  }
 },
 "nbformat": 4,
 "nbformat_minor": 1
}
