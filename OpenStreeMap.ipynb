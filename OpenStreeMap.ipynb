{
 "cells": [
  {
   "cell_type": "markdown",
   "metadata": {},
   "source": [
    "# OpenStreetMap Data Wrangling Project\n",
    "\n",
    "In this notebook I summarize my steps and findings towards the Data Wrangling Project course, using OpenStreet Map as a Case Study.\n",
    "This is in the Scope of the Udacity Nanodegree, P3: Wrangle OpenStreetMap Data\n",
    "\n",
    "** Author **: [Marcelo Tyszler](mailto:tyszler.jobs@gmail.com)\n",
    "\n",
    "** Start Date **: 04/Mar/2017\n",
    "\n",
    "** Today's Date **: 28/Apr/2017"
   ]
  },
  {
   "cell_type": "markdown",
   "metadata": {},
   "source": [
    "## Choice of tools\n",
    "\n",
    "For this project I opted for:\n",
    "\n",
    "* Keep basic documentation and notes in the Jupyter Notebook\n",
    "* Save files in Github\n",
    "* Use PyCharm as Python environment\n",
    "* Use DB Browser for SQLite as SQL environment (in combination with command line) for testing and exploration\n",
    "* Having all SQL operations done via python using the sqlite API\n",
    "\n"
   ]
  },
  {
   "cell_type": "markdown",
   "metadata": {},
   "source": [
    "## Map Area\n",
    "\n",
    "Nieuwegein, Netherlands:\n",
    "\n",
    "* Mapzen extract: https://mapzen.com/data/metro-extracts/your-extracts/2ac3c83d0cf8\n",
    "* OpenStreetMap link: https://www.openstreetmap.org/relation/419212#map=12/52.0300/5.0966\n",
    "\n",
    "I chose this area since this is where I currently live, and not a major city in the Netherlands. Therefore I believe I can collaborate better here due to my knowledge and have a marginal higher impact than to a major city like Amsterdam.\n",
    "\n",
    " *I downloaded the OSM XML option: https://s3.amazonaws.com/mapzen.odes/ex_4nypWySr8p3tPS5D3gfvy2aPey7mV.osm.bz2*\n"
   ]
  },
  {
   "cell_type": "markdown",
   "metadata": {
    "collapsed": true
   },
   "source": [
    "## Initial exploration\n",
    "\n",
    "After loading a small sample of the data (taking every 10th entry in the full data), I explored the database.\n",
    "\n",
    "I noticed the (initial) issues:\n",
    "\n",
    "* Many unique keys: for example, *postal_code* and _postcode_ should be combined\n",
    "* Post codes where not uniform (for example \"3431 LN\" and \"3523ED\")"
   ]
  },
  {
   "cell_type": "markdown",
   "metadata": {},
   "source": [
    "### Many unique keys\n",
    "\n",
    "I ran the following query:"
   ]
  },
  {
   "cell_type": "raw",
   "metadata": {},
   "source": [
    "select  key, count(*) as count \n",
    "from ways_tags\n",
    "group by key\n",
    "order by count"
   ]
  },
  {
   "cell_type": "markdown",
   "metadata": {},
   "source": [
    "This returned 134 unique rows, which I found suspiciously high. I did not investigate all details, but I did compare the top returning with the lower returning keys. Here I noticed, for example, that *postal_code* appeared with count 2, as opposed to *postcode* with count 5614. Therefore I decided to merge those in the python import code:"
   ]
  },
  {
   "cell_type": "raw",
   "metadata": {},
   "source": [
    "## correct for postal_code:\n",
    "if potential_key == \"postal_code\":\n",
    "    potential_key == \"postcode\"\n",
    "    potential_type == \"addr\""
   ]
  },
  {
   "cell_type": "markdown",
   "metadata": {},
   "source": [
    "### Clean Postcodes\n",
    "\n",
    "Browsing through the data revealed 2 problems with postcodes:\n",
    "* Not uniform on the white space between 4 numbers and letters\n",
    "* Incomplete postcodes having only 4 numbers\n",
    "\n",
    "To solve this, I first removed any whites spaces by adding the codes into the python db_prep.py code:"
   ]
  },
  {
   "cell_type": "code",
   "execution_count": 6,
   "metadata": {
    "collapsed": true
   },
   "outputs": [],
   "source": [
    "def improve_postcode(postcode):\n",
    "    return postcode.replace(\" \", \"\")"
   ]
  },
  {
   "cell_type": "raw",
   "metadata": {},
   "source": [
    "if potential_key == \"postcode\":\n",
    "    content.attrib['v'] = improve_postcode(content.attrib['v'])\n"
   ]
  },
  {
   "cell_type": "markdown",
   "metadata": {},
   "source": [
    "To improve the postcodes with 4 digits only, I decided to use the information in the database to improve itself.\n",
    "\n",
    "The approach was to find the closest node point with full postcode that started with the same 4 letters and use that full postcode as replacement.\n",
    "\n",
    "This was done by combining the following subqueries:"
   ]
  },
  {
   "cell_type": "raw",
   "metadata": {
    "raw_mimetype": "text/markdown"
   },
   "source": [
    "## Find problem postcodes\n",
    "select value as problem_postcode, key, lat, lon\n",
    "from nodes_tags join nodes using(id)\n",
    "where key = \"postcode\" and length(value)<=4 "
   ]
  },
  {
   "cell_type": "raw",
   "metadata": {},
   "source": [
    "## Find the Matching postcodes\n",
    "select substr(value,1,4) as match_postcode, value as full_postcode, key, lat, lon\n",
    "from nodes_tags join nodes using(id)\n",
    "where key = \"postcode\" and length(value)>4) "
   ]
  },
  {
   "cell_type": "markdown",
   "metadata": {},
   "source": [
    "And after matching on the (filtered) postcode, to compute squared distances and find the minimum distance"
   ]
  },
  {
   "cell_type": "raw",
   "metadata": {},
   "source": [
    "# Putting it all together:\n",
    "\n",
    "select id, problem_postcode , full_postcode, min(distance) \n",
    "from \n",
    "(select id, problem_postcode , full_postcode, (problem.lat-solution.lat)*(problem.lat-solution.lat)+(problem.lon-solution.lon)*(problem.lon-solution.lon) as distance\n",
    "from\n",
    "(select value as problem_postcode, id, key, lat, lon\n",
    "from nodes_tags join nodes using(id)\n",
    "where key = \"postcode\" and length(value)<=4 ) as problem\n",
    "inner join \n",
    "(select substr(value,1,4) as match_postcode, value as full_postcode, key, lat, lon\n",
    "from nodes_tags join nodes using(id)\n",
    "where key = \"postcode\" and length(value)>4) as solution\n",
    "on problem_postcode = match_postcode) as lat_lon_distances\n",
    "group by problem_postcode\n"
   ]
  },
  {
   "cell_type": "markdown",
   "metadata": {},
   "source": [
    "This was fed into the python create_db code"
   ]
  },
  {
   "cell_type": "raw",
   "metadata": {},
   "source": [
    "results = c.fetchall()\n",
    "#print results\n",
    "# results: id, problem_postcode, best_match_postcode\n",
    "for problem_postcode in results:\n",
    "    sql = \"UPDATE nodes_tags\" + \\\n",
    "          \" SET value = '\" + str(problem_postcode[2]) + \"'\" \\\n",
    "          \" WHERE id = \" + str(problem_postcode[0]) + \\\n",
    "          \" AND key = 'postcode'\"\n",
    "\n",
    "    db.execute(sql)\n",
    "    db.commit()"
   ]
  },
  {
   "cell_type": "markdown",
   "metadata": {},
   "source": [
    "## Further Exploration\n",
    "\n",
    "\n",
    "After the initial exploration, further exploration was done with the full dataset"
   ]
  },
  {
   "cell_type": "markdown",
   "metadata": {},
   "source": [
    "## Verify Cities\n",
    "I was curious to see which cities would be listed. I would expect Nieuwegein, but also the neighbouring areas of Utrecht, Vianen, Ijsselstein.\n"
   ]
  },
  {
   "cell_type": "raw",
   "metadata": {},
   "source": [
    "select value, count(*)  from nodes_tags where key = 'city' group by value "
   ]
  },
  {
   "cell_type": "markdown",
   "metadata": {},
   "source": [
    "| City            | Count |\n",
    "|-----------------|-------|\n",
    "| De Meern        | 44    |\n",
    "| Hagestein       | 12    |\n",
    "| Houten          | 24    |\n",
    "| IJsselstein     | 7673  |\n",
    "| Lopikerkapel    | 149   |\n",
    "| Nieuwegein      | 31427 |\n",
    "| Tull en 't Waal | 12    |\n",
    "| Utrecht         | 14398 |\n",
    "| Vianen          | 3094  |\n"
   ]
  },
  {
   "cell_type": "markdown",
   "metadata": {},
   "source": [
    "The above result is fine and shows other small cities on the neighbourhood"
   ]
  },
  {
   "cell_type": "markdown",
   "metadata": {},
   "source": [
    "## Other fields\n",
    "\n",
    "Further inspection of the other fields did not reveal any (serious) problems. Street names were correct and did not suffer the abbreviation problems from typical US data."
   ]
  },
  {
   "cell_type": "markdown",
   "metadata": {},
   "source": [
    "# Data Overview"
   ]
  },
  {
   "cell_type": "markdown",
   "metadata": {},
   "source": [
    "## File sizes"
   ]
  },
  {
   "cell_type": "raw",
   "metadata": {},
   "source": [
    "nieuwegein.osm:  ................. 117 MB\n",
    "nieuwegein_sample.osm ............. 12 MB\n",
    "OpenStreeMap_Nieuwegein.sqlite...   74 MB\n",
    "nodes.csv ........................  37 MB\n",
    "nodes_tags.csv ..................   12 MB\n",
    "ways.csv ........................... 5 MB\n",
    "ways_tags.csv ..................... 13 MB\n",
    "ways_nodes.cv ..................... 10 MB  "
   ]
  },
  {
   "cell_type": "markdown",
   "metadata": {},
   "source": [
    "## Number of nodes"
   ]
  },
  {
   "cell_type": "raw",
   "metadata": {},
   "source": [
    "442787 rows returned in 339ms from: select * from nodes"
   ]
  },
  {
   "cell_type": "markdown",
   "metadata": {},
   "source": [
    "## Number of nodes_tags"
   ]
  },
  {
   "cell_type": "raw",
   "metadata": {},
   "source": [
    "369053 rows returned in 167ms from: select * from nodes_tags"
   ]
  },
  {
   "cell_type": "markdown",
   "metadata": {},
   "source": [
    "## Number of ways"
   ]
  },
  {
   "cell_type": "raw",
   "metadata": {},
   "source": [
    "73018 rows returned in 148ms from: select * from ways"
   ]
  },
  {
   "cell_type": "markdown",
   "metadata": {},
   "source": [
    "## Number of ways_tags"
   ]
  },
  {
   "cell_type": "raw",
   "metadata": {},
   "source": [
    "328890 rows returned in 160ms from: select * from ways_tags"
   ]
  },
  {
   "cell_type": "markdown",
   "metadata": {},
   "source": [
    "## Number of ways_nodes"
   ]
  },
  {
   "cell_type": "raw",
   "metadata": {},
   "source": [
    "566456 rows returned in 156ms from: select * from ways_nodes"
   ]
  },
  {
   "cell_type": "markdown",
   "metadata": {},
   "source": [
    "## Number of unique users"
   ]
  },
  {
   "cell_type": "raw",
   "metadata": {},
   "source": [
    "select user, count(*) as counter from \n",
    "(select user from nodes UNION ALL\n",
    "select user from ways )\n",
    "group by user\n",
    "order by counter DESC\n",
    "\n",
    "336 rows returned in 2094ms"
   ]
  },
  {
   "cell_type": "markdown",
   "metadata": {},
   "source": [
    "### Top 10:\n",
    "| User              | Contributions |\n",
    "|-------------------|---------------|\n",
    "| Martin Borsje_BAG | 193759        |\n",
    "| Zugführer_BAG     | 47604         |\n",
    "| 3dShapes          | 45710         |\n",
    "| Hendrikklaas      | 41691         |\n",
    "| rivw_BAG          | 38711         |\n",
    "| Gertjan Idema_BAG | 36189         |\n",
    "| ruudblank_BAG     | 19041         |\n",
    "| Christoph Lotz    | 13181         |\n",
    "| ligfietser        | 12619         |\n",
    "| cartinus          | 6849          |"
   ]
  },
  {
   "cell_type": "markdown",
   "metadata": {},
   "source": [
    "## Top 10 Amenities:"
   ]
  },
  {
   "cell_type": "raw",
   "metadata": {},
   "source": [
    "select value, count(*) as counter from nodes_tags\n",
    "where key = \"amenity\"\n",
    "group by value\n",
    "order by counter desc\n",
    "limit 10\n"
   ]
  },
  {
   "cell_type": "markdown",
   "metadata": {},
   "source": [
    "| Amenitiy        | counter |\n",
    "|-----------------|---------|\n",
    "| waste_basket    | 501     |\n",
    "| bench           | 216     |\n",
    "| parking         | 138     |\n",
    "| recycling       | 64      |\n",
    "| post_box        | 63      |\n",
    "| bicycle_parking | 48      |\n",
    "| fast_food       | 29      |\n",
    "| restaurant      | 25      |\n",
    "| school          | 24      |\n",
    "| waste_disposal  | 20      |"
   ]
  },
  {
   "cell_type": "markdown",
   "metadata": {},
   "source": [
    "# Other ideas:\n",
    "\n",
    "* Further improvement can be done by cross check externally the postcodes\n",
    "* Certain tags could be re-written to a more intuitively format. For example these tags refer to a cell tower:\n",
    "\t\t<tag k=\"height\" v=\"21\" />\n",
    "\t\t<tag k=\"man_made\" v=\"tower\" />\n",
    "\t\t<tag k=\"technology\" v=\"UMTS\" />\n",
    "\t\t<tag k=\"tower:type\" v=\"communication\" />\n",
    "        \n",
    "    It would be clearer to have all these 4 entries with a tag type of tower, instead of 'regular' and just one as 'tower', and the values as in there\n",
    "\n",
    "      "
   ]
  },
  {
   "cell_type": "code",
   "execution_count": null,
   "metadata": {
    "collapsed": true
   },
   "outputs": [],
   "source": []
  },
  {
   "cell_type": "code",
   "execution_count": null,
   "metadata": {
    "collapsed": true
   },
   "outputs": [],
   "source": []
  }
 ],
 "metadata": {
  "anaconda-cloud": {},
  "kernelspec": {
   "display_name": "Python [default]",
   "language": "python",
   "name": "python2"
  },
  "language_info": {
   "codemirror_mode": {
    "name": "ipython",
    "version": 2
   },
   "file_extension": ".py",
   "mimetype": "text/x-python",
   "name": "python",
   "nbconvert_exporter": "python",
   "pygments_lexer": "ipython2",
   "version": "2.7.12"
  }
 },
 "nbformat": 4,
 "nbformat_minor": 1
}
